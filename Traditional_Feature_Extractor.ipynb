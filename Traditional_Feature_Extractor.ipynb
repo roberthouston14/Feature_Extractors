{
  "nbformat": 4,
  "nbformat_minor": 0,
  "metadata": {
    "colab": {
      "provenance": [],
      "authorship_tag": "ABX9TyOiaOMFOiDFm8n9hEF5CTR9",
      "include_colab_link": true
    },
    "kernelspec": {
      "name": "python3",
      "display_name": "Python 3"
    },
    "language_info": {
      "name": "python"
    }
  },
  "cells": [
    {
      "cell_type": "markdown",
      "metadata": {
        "id": "view-in-github",
        "colab_type": "text"
      },
      "source": [
        "<a href=\"https://colab.research.google.com/github/roberthouston14/Feature_Extractors/blob/main/Traditional_Feature_Extractor.ipynb\" target=\"_parent\"><img src=\"https://colab.research.google.com/assets/colab-badge.svg\" alt=\"Open In Colab\"/></a>"
      ]
    },
    {
      "cell_type": "code",
      "source": [
        "from google.colab import drive\n",
        "drive.mount('/content/drive')"
      ],
      "metadata": {
        "colab": {
          "base_uri": "https://localhost:8080/"
        },
        "id": "bpscZexYQHfk",
        "outputId": "5db2b6ba-22bc-4114-f4de-0f6239528c43"
      },
      "execution_count": 1,
      "outputs": [
        {
          "output_type": "stream",
          "name": "stdout",
          "text": [
            "Mounted at /content/drive\n"
          ]
        }
      ]
    },
    {
      "cell_type": "code",
      "execution_count": 4,
      "metadata": {
        "colab": {
          "base_uri": "https://localhost:8080/"
        },
        "id": "zsp8I5t7IY8e",
        "outputId": "ee0f3d63-89e8-4b3b-e579-12c0d274546c"
      },
      "outputs": [
        {
          "output_type": "stream",
          "name": "stderr",
          "text": [
            "[nltk_data] Downloading package stopwords to /root/nltk_data...\n",
            "[nltk_data]   Package stopwords is already up-to-date!\n"
          ]
        },
        {
          "name": "stdout",
          "output_type": "stream",
          "text": [
            "Please enter the path to the CSV file: /content/drive/MyDrive/Production Datasets/Working_Gold_Data_POS_Features_Spellcheck_Features.csv\n"
          ]
        }
      ],
      "source": [
        "import os\n",
        "import string\n",
        "import pandas as pd\n",
        "import numpy as np\n",
        "from sklearn.feature_extraction.text import TfidfVectorizer, CountVectorizer\n",
        "import nltk\n",
        "from nltk.corpus import stopwords\n",
        "\n",
        "nltk.download('stopwords')\n",
        "stop_words = set(stopwords.words('english'))\n",
        "\n",
        "def main(csv_file_path):\n",
        "    # Read the CSV file\n",
        "    data = pd.read_csv(csv_file_path)\n",
        "\n",
        "    # Randomly sample 25 rows from the DataFrame\n",
        "    data = data.sample(n=25, random_state=42)\n",
        "\n",
        "\n",
        "    # Compute text-based features\n",
        "    data['char_count'] = data['text'].apply(len)\n",
        "    data['word_count'] = data['text'].apply(lambda x: len(x.split()))\n",
        "    data['avg_word_length'] = data['char_count'] / data['word_count']\n",
        "    data['stopword_count'] = data['text'].apply(lambda x: len([w for w in x.lower().split() if w in stop_words]))\n",
        "    data['punctuation_count'] = data['text'].apply(lambda x: len([c for c in x if c in string.punctuation]))\n",
        "    data['uppercase_count'] = data['text'].apply(lambda x: len([w for w in x.split() if w.isupper()]))\n",
        "    data['digit_count'] = data['text'].apply(lambda x: len([c for c in x if c.isdigit()]))\n",
        "\n",
        "    # Compute TF-IDF vectors\n",
        "    tfidf_vectorizer = TfidfVectorizer(max_features=1000)\n",
        "    tfidf_matrix = tfidf_vectorizer.fit_transform(data['text'])\n",
        "    tfidf_feature_names = tfidf_vectorizer.get_feature_names_out()\n",
        "    tfidf_df = pd.DataFrame(tfidf_matrix.toarray(), columns=tfidf_feature_names)\n",
        "\n",
        "\n",
        "    # Compute n-gram features (bigrams as an example)\n",
        "    bigram_vectorizer = CountVectorizer(ngram_range=(2, 2), max_features=1000)\n",
        "    bigram_matrix = bigram_vectorizer.fit_transform(data['text'])\n",
        "    bigram_feature_names = bigram_vectorizer.get_feature_names_out()\n",
        "    bigram_df = pd.DataFrame(bigram_matrix.toarray(), columns=bigram_feature_names)\n",
        "\n",
        "\n",
        "    # Concatenate the original dataset with TF-IDF and n-gram feature DataFrames\n",
        "    data_extended = pd.concat([data, tfidf_df, bigram_df], axis=1)\n",
        "\n",
        "    # Save the updated DataFrame to a new CSV file\n",
        "    output_file_path = os.path.splitext(csv_file_path)[0] + '_features.csv'\n",
        "    data_extended.to_csv(output_file_path, index=False)\n",
        "\n",
        "if __name__ == \"__main__\":\n",
        "    csv_file_path = input(\"Please enter the path to the CSV file: \")\n",
        "    main(csv_file_path)\n"
      ]
    },
    {
      "cell_type": "code",
      "source": [
        "import os\n",
        "import string\n",
        "import pandas as pd\n",
        "from sklearn.feature_extraction.text import TfidfVectorizer, CountVectorizer\n",
        "from nltk.corpus import stopwords\n",
        "\n",
        "def main(csv_file_path):\n",
        "    # Read the CSV file\n",
        "    data = pd.read_csv(csv_file_path)\n",
        "\n",
        "    # Randomly sample 25 rows from the DataFrame\n",
        "    data = data.sample(n=25, random_state=42)\n",
        "\n",
        "    # Reset the index of the input dataset\n",
        "    data.reset_index(drop=True, inplace=True)\n",
        "\n",
        "    # Compute text-based features\n",
        "    stop_words = set(stopwords.words(\"english\"))\n",
        "    \n",
        "    data['char_count'] = data['text'].apply(len)\n",
        "    data['word_count'] = data['text'].apply(lambda x: len(x.split()))\n",
        "    data['avg_word_length'] = data['char_count'] / data['word_count']\n",
        "    data['stopword_count'] = data['text'].apply(lambda x: len([w for w in x.lower().split() if w in stop_words]))\n",
        "    data['punctuation_count'] = data['text'].apply(lambda x: len([c for c in x if c in string.punctuation]))\n",
        "    data['uppercase_count'] = data['text'].apply(lambda x: len([w for w in x.split() if w.isupper()]))\n",
        "    data['digit_count'] = data['text'].apply(lambda x: len([c for c in x if c.isdigit()]))\n",
        "\n",
        "    # Compute TF-IDF features\n",
        "    tfidf_vectorizer = TfidfVectorizer(max_features=1000)\n",
        "    tfidf_matrix = tfidf_vectorizer.fit_transform(data['text'])\n",
        "    tfidf_feature_names = tfidf_vectorizer.get_feature_names_out()\n",
        "    tfidf_df = pd.DataFrame(tfidf_matrix.toarray(), columns=tfidf_feature_names)\n",
        "    tfidf_df.columns = ['tfidf_' + col for col in tfidf_df.columns]\n",
        "\n",
        "    # Compute bigram features\n",
        "    bigram_vectorizer = CountVectorizer(ngram_range=(2, 2), max_features=1000)\n",
        "    bigram_matrix = bigram_vectorizer.fit_transform(data['text'])\n",
        "    bigram_feature_names = bigram_vectorizer.get_feature_names_out()\n",
        "    bigram_df = pd.DataFrame(bigram_matrix.toarray(), columns=bigram_feature_names)\n",
        "    bigram_df.columns = ['bigram_' + col for col in bigram_df.columns]\n",
        "\n",
        "    # Concatenate the input dataset and the new feature DataFrames\n",
        "    data = pd.concat([data, tfidf_df, bigram_df], axis=1)\n",
        "\n",
        "    # Save the updated DataFrame to a new CSV file\n",
        "    output_file_path = os.path.splitext(csv_file_path)[0] + '_features.csv'\n",
        "    data.to_csv(output_file_path, index=False)\n",
        "\n",
        "if __name__ == \"__main__\":\n",
        "    csv_file_path = input(\"Please enter the path to the CSV file: \")\n",
        "    main(csv_file_path)\n"
      ],
      "metadata": {
        "colab": {
          "base_uri": "https://localhost:8080/"
        },
        "id": "YM2RddqlUewD",
        "outputId": "665aa1ce-271c-4e21-d124-db08c2495b0c"
      },
      "execution_count": 5,
      "outputs": [
        {
          "name": "stdout",
          "output_type": "stream",
          "text": [
            "Please enter the path to the CSV file: /content/drive/MyDrive/Production Datasets/Working_Gold_Data_POS_Features_Spellcheck_Features.csv\n"
          ]
        }
      ]
    }
  ]
}